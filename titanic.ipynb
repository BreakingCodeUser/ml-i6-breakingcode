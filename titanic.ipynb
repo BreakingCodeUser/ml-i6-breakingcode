{
 "cells": [
  {
   "cell_type": "markdown",
   "metadata": {},
   "source": [
    "# Titanic Survivability Linear Learner in SageMaker"
   ]
  },
  {
   "cell_type": "markdown",
   "metadata": {},
   "source": [
    "## Prerequisites and Data <a class=\"anchor\" id=\"pre_and_data\">\n",
    "### Initialize SageMaker  <a class=\"anchor\" id=\"initsagemaker\">\n",
    "Add the data files for training set, test set and validation set"
   ]
  },
  {
   "cell_type": "code",
   "execution_count": 10,
   "metadata": {},
   "outputs": [
    {
     "name": "stdout",
     "output_type": "stream",
     "text": [
      "1. finished uploading training set\n",
      "2. finished uploading test set\n",
      "3. finished uploading validation set\n"
     ]
    }
   ],
   "source": [
    "from sagemaker import Session\n",
    "bucket = 'ml-i6-breakingcode'\n",
    "prefix = 'sagemaker/ebsco-titanic-survivabiity'\n",
    "\n",
    "# Define IAM role\n",
    "from sagemaker import get_execution_role\n",
    "import pandas as pd\n",
    "import numpy as np\n",
    "import urllib\n",
    "import os\n",
    "import sklearn.preprocessing as preprocessing\n",
    "import seaborn as sns\n",
    "\n",
    "role = get_execution_role()\n",
    "data_key = 'train.csv'\n",
    "data_location = 's3://{}/{}'.format(bucket, data_key)\n",
    "training_set = pd.read_csv(data_location)\n",
    "print(\"1. finished uploading training set\")\n",
    "\n",
    "data_key = 'test.csv'\n",
    "data_location = 's3://{}/{}'.format(bucket, data_key)\n",
    "test_set = pd.read_csv(data_location)\n",
    "print(\"2. finished uploading test set\")\n",
    "\n",
    "data_key = 'gender_submission.csv'\n",
    "data_location = 's3://{}/{}'.format(bucket, data_key)\n",
    "validation_set= pd.read_csv(data_location)\n",
    "print(\"3. finished uploading validation set\")"
   ]
  },
  {
   "cell_type": "markdown",
   "metadata": {},
   "source": [
    "### Data Manipulation <a class=\"anchor\" id=\"inspect_data\">\n",
    "Remove columns that doesn't affect the analysis from the training set"
   ]
  },
  {
   "cell_type": "code",
   "execution_count": 26,
   "metadata": {},
   "outputs": [
    {
     "data": {
      "text/html": [
       "<div>\n",
       "<style scoped>\n",
       "    .dataframe tbody tr th:only-of-type {\n",
       "        vertical-align: middle;\n",
       "    }\n",
       "\n",
       "    .dataframe tbody tr th {\n",
       "        vertical-align: top;\n",
       "    }\n",
       "\n",
       "    .dataframe thead th {\n",
       "        text-align: right;\n",
       "    }\n",
       "</style>\n",
       "<table border=\"1\" class=\"dataframe\">\n",
       "  <thead>\n",
       "    <tr style=\"text-align: right;\">\n",
       "      <th></th>\n",
       "      <th>Survived</th>\n",
       "      <th>Pclass</th>\n",
       "      <th>Age</th>\n",
       "      <th>SibSp</th>\n",
       "      <th>Parch</th>\n",
       "      <th>Fare</th>\n",
       "      <th>Sex_female</th>\n",
       "      <th>Sex_male</th>\n",
       "      <th>Embarked_C</th>\n",
       "      <th>Embarked_Q</th>\n",
       "      <th>Embarked_S</th>\n",
       "    </tr>\n",
       "  </thead>\n",
       "  <tbody>\n",
       "    <tr>\n",
       "      <th>0</th>\n",
       "      <td>0</td>\n",
       "      <td>3</td>\n",
       "      <td>22.0</td>\n",
       "      <td>1</td>\n",
       "      <td>0</td>\n",
       "      <td>7.2500</td>\n",
       "      <td>0</td>\n",
       "      <td>1</td>\n",
       "      <td>0</td>\n",
       "      <td>0</td>\n",
       "      <td>1</td>\n",
       "    </tr>\n",
       "    <tr>\n",
       "      <th>1</th>\n",
       "      <td>1</td>\n",
       "      <td>1</td>\n",
       "      <td>38.0</td>\n",
       "      <td>1</td>\n",
       "      <td>0</td>\n",
       "      <td>71.2833</td>\n",
       "      <td>1</td>\n",
       "      <td>0</td>\n",
       "      <td>1</td>\n",
       "      <td>0</td>\n",
       "      <td>0</td>\n",
       "    </tr>\n",
       "    <tr>\n",
       "      <th>2</th>\n",
       "      <td>1</td>\n",
       "      <td>3</td>\n",
       "      <td>26.0</td>\n",
       "      <td>0</td>\n",
       "      <td>0</td>\n",
       "      <td>7.9250</td>\n",
       "      <td>1</td>\n",
       "      <td>0</td>\n",
       "      <td>0</td>\n",
       "      <td>0</td>\n",
       "      <td>1</td>\n",
       "    </tr>\n",
       "    <tr>\n",
       "      <th>3</th>\n",
       "      <td>1</td>\n",
       "      <td>1</td>\n",
       "      <td>35.0</td>\n",
       "      <td>1</td>\n",
       "      <td>0</td>\n",
       "      <td>53.1000</td>\n",
       "      <td>1</td>\n",
       "      <td>0</td>\n",
       "      <td>0</td>\n",
       "      <td>0</td>\n",
       "      <td>1</td>\n",
       "    </tr>\n",
       "    <tr>\n",
       "      <th>4</th>\n",
       "      <td>0</td>\n",
       "      <td>3</td>\n",
       "      <td>35.0</td>\n",
       "      <td>0</td>\n",
       "      <td>0</td>\n",
       "      <td>8.0500</td>\n",
       "      <td>0</td>\n",
       "      <td>1</td>\n",
       "      <td>0</td>\n",
       "      <td>0</td>\n",
       "      <td>1</td>\n",
       "    </tr>\n",
       "  </tbody>\n",
       "</table>\n",
       "</div>"
      ],
      "text/plain": [
       "   Survived  Pclass   Age  SibSp  Parch     Fare  Sex_female  Sex_male  \\\n",
       "0         0       3  22.0      1      0   7.2500           0         1   \n",
       "1         1       1  38.0      1      0  71.2833           1         0   \n",
       "2         1       3  26.0      0      0   7.9250           1         0   \n",
       "3         1       1  35.0      1      0  53.1000           1         0   \n",
       "4         0       3  35.0      0      0   8.0500           0         1   \n",
       "\n",
       "   Embarked_C  Embarked_Q  Embarked_S  \n",
       "0           0           0           1  \n",
       "1           1           0           0  \n",
       "2           0           0           1  \n",
       "3           0           0           1  \n",
       "4           0           0           1  "
      ]
     },
     "execution_count": 26,
     "metadata": {},
     "output_type": "execute_result"
    }
   ],
   "source": [
    "clean_training_data = training_set.drop(\"Name\", axis = 1)\n",
    "clean_training_data.head()\n",
    "clean_training_data = clean_training_data.drop(\"Ticket\", axis = 1)\n",
    "clean_training_data.head()\n",
    "clean_training_data = clean_training_data.drop(\"Cabin\", axis = 1)\n",
    "clean_training_data.head()\n",
    "clean_training_data = clean_training_data.drop(\"PassengerId\", axis = 1)\n",
    "clean_training_data.head()\n",
    "clean_training_data = pd.get_dummies(clean_training_data, columns = [\"Sex\"])\n",
    "clean_training_data.head()\n",
    "clean_training_data = pd.get_dummies(clean_training_data, columns = [\"Embarked\"])\n",
    "clean_training_data.head()\n",
    "clean_training_data = clean_training_data.dropna(how='any',axis = 0)\n",
    "clean_training_data.head()"
   ]
  },
  {
   "cell_type": "markdown",
   "metadata": {},
   "source": [
    "### Data inspection  <a class=\"anchor\" id=\"inspect_data\">\n",
    "Plotting histograms of the distribution of the different features is a good way to visualize the data. We plot both the whole dataset distributions (left) and the distrubtions in the case of positive labels only (right)."
   ]
  },
  {
   "cell_type": "code",
   "execution_count": 31,
   "metadata": {},
   "outputs": [
    {
     "data": {
      "image/png": "[encoded data removed]",
      "text/plain": [
       "<Figure size 432x288 with 1 Axes>"
      ]
     },
     "metadata": {},
     "output_type": "display_data"
    }
   ],
   "source": [
    "import matplotlib.pyplot as plt\n",
    "import pandas as pd\n",
    "\n",
    "data = clean_training_data['Age']\n",
    "\n",
    "data.plot(kind='hist')\n",
    "plt.ylabel('Number of people')\n",
    "plt.xlabel('Age')\n",
    "plt.title('Distribution of Age')\n",
    "plt.show()"
   ]
  },
  {
   "cell_type": "code",
   "execution_count": 33,
   "metadata": {},
   "outputs": [
    {
     "data": {
      "image/png": "[encoded data removed]",
      "text/plain": [
       "<Figure size 432x288 with 1 Axes>"
      ]
     },
     "metadata": {},
     "output_type": "display_data"
    }
   ],
   "source": [
    "data = clean_training_data['Pclass']\n",
    "\n",
    "data.plot(kind='hist')\n",
    "plt.ylabel('Number of people')\n",
    "plt.xlabel('Passenger class')\n",
    "plt.title('Distribuition of Passengers in classes')\n",
    "plt.show()"
   ]
  },
  {
   "cell_type": "code",
   "execution_count": 35,
   "metadata": {},
   "outputs": [
    {
     "data": {
      "image/png": "[encoded data removed]",
      "text/plain": [
       "<Figure size 432x288 with 1 Axes>"
      ]
     },
     "metadata": {},
     "output_type": "display_data"
    }
   ],
   "source": [
    "data = clean_training_data['Fare']\n",
    "\n",
    "data.plot(kind='hist')\n",
    "plt.ylabel('Number of people')\n",
    "plt.xlabel('Passenger fare')\n",
    "plt.title('Distribuition of Passengers according to fare')\n",
    "plt.show()"
   ]
  },
  {
   "cell_type": "markdown",
   "metadata": {},
   "source": [
    "### Data encoding   <a class=\"anchor\" id=\"encode_data\">\n",
    "We apply a preprocessing encoder for the categorial features."
   ]
  },
  {
   "cell_type": "code",
   "execution_count": null,
   "metadata": {},
   "outputs": [],
   "source": [
    "# Encode the categorical features as numbers\n",
    "def number_encode_features(df):\n",
    "    result = df.copy()\n",
    "    encoders = {}\n",
    "    for column in result.columns:\n",
    "        if result.dtypes[column] == np.object:\n",
    "            encoders[column] = preprocessing.LabelEncoder()\n",
    "            #  print('Column:', column, result[column])\n",
    "            result[column] = encoders[column].fit_transform(result[column].fillna('None'))\n",
    "    return result, encoders\n",
    "\n",
    "# Calculate the correlation and plot it\n",
    "encoded_data, _ = number_encode_features(original_data)\n",
    "training_data_matrix = np.array(encoded_data.values, dtype=float)\n",
    "encoded_data, _ = number_encode_features(original_test)\n",
    "test_data_matrix = np.array(encoded_data.fillna(0).values, dtype=float)\n",
    "\n",
    "scaler = preprocessing.MinMaxScaler(feature_range=(0.0, 1.0))\n",
    "training_data_matrix = scaler.fit_transform(training_data_matrix)\n",
    "test_data_matrix = scaler.transform(test_data_matrix)"
   ]
  },
  {
   "cell_type": "markdown",
   "metadata": {},
   "source": [
    "### Data conversion and upload of the training data    <a class=\"anchor\" id=\"upload_data\">\n",
    "\n",
    "Since algorithms have particular input and output requirements, converting the dataset is also part of the process that a data scientist goes through prior to initiating training. In this particular case, the Amazon SageMaker implementation of Linear Learner takes recordIO-wrapped protobuf, where the data we have today is a pickle-ized numpy array on disk.\n",
    "\n",
    "We also need to upload it to S3, so that Amazon SageMaker training can use it."
   ]
  },
  {
   "cell_type": "code",
   "execution_count": null,
   "metadata": {},
   "outputs": [],
   "source": [
    "import io\n",
    "import numpy as np\n",
    "import sagemaker.amazon.common as smac\n",
    "import boto3\n",
    "import os\n",
    "\n",
    "vectors = np.array([t.tolist() for t in training_data_matrix[:,:-1]]).astype('float32')\n",
    "labels = np.where(np.array([t.tolist() for t in training_data_matrix[:,-1]]) == 1, 1, 0).astype('float32')\n",
    "\n",
    "buf = io.BytesIO()\n",
    "smac.write_numpy_to_dense_tensor(buf, vectors, labels)\n",
    "buf.seek(0)\n",
    "\n",
    "key = 'recordio-pb-data'\n",
    "boto3.resource('s3').Bucket(bucket).Object(os.path.join(prefix, 'train', key)).upload_fileobj(buf)\n",
    "s3_train_data = 's3://{}/{}/train/{}'.format(bucket, prefix, key)\n",
    "print('uploaded training data location: {}'.format(s3_train_data))"
   ]
  },
  {
   "cell_type": "markdown",
   "metadata": {},
   "source": [
    "Let's also setup an output S3 location for the model artifact that will be output as the result of training with the algorithm."
   ]
  },
  {
   "cell_type": "code",
   "execution_count": null,
   "metadata": {},
   "outputs": [],
   "source": [
    "output_location = 's3://{}/{}/output'.format(bucket, prefix)\n",
    "print('training artifacts will be uploaded to: {}'.format(output_location))"
   ]
  },
  {
   "cell_type": "markdown",
   "metadata": {},
   "source": [
    "## Standard linear model  <a class=\"anchor\" id=\"train_linear_model\">\n",
    "\n",
    "Once we have the data preprocessed and available in the correct format for training, the next step is to actually train the model using the data. More details on algorithm containers can be found in [AWS documentation](https://docs-aws.amazon.com/sagemaker/latest/dg/sagemaker-algo-docker-registry-paths.html)."
   ]
  },
  {
   "cell_type": "code",
   "execution_count": null,
   "metadata": {},
   "outputs": [],
   "source": [
    "from sagemaker.amazon.amazon_estimator import get_image_uri\n",
    "import sagemaker\n",
    "\n",
    "container = get_image_uri(boto3.Session().region_name, 'linear-learner', \"latest\")\n",
    "\n",
    "sess = sagemaker.Session()\n",
    "linear = sagemaker.estimator.Estimator(container,\n",
    "                                       role, \n",
    "                                       train_instance_count=1, \n",
    "                                       train_instance_type='ml.c4.xlarge',\n",
    "                                       output_path=output_location,\n",
    "                                       sagemaker_session=sess)\n",
    "linear.set_hyperparameters(feature_dim=14,\n",
    "                           predictor_type='binary_classifier',\n",
    "                           mini_batch_size=200)\n",
    "\n",
    "linear.fit({'train': s3_train_data})"
   ]
  },
  {
   "cell_type": "markdown",
   "metadata": {},
   "source": [
    "### Accuracy and Fairness of the model <a class=\"anchor\" id=\"performance_linear_model\">\n",
    "Now that we've trained our model, we can deploy it behind an Amazon SageMaker real-time hosted endpoint.  This will allow out to make predictions (or inference) from the model dyanamically."
   ]
  },
  {
   "cell_type": "code",
   "execution_count": null,
   "metadata": {},
   "outputs": [],
   "source": [
    "from sagemaker.predictor import csv_serializer, json_deserializer\n",
    "linear_predictor = linear.deploy(initial_instance_count=1,\n",
    "                                 instance_type='ml.m4.xlarge')\n",
    "\n",
    "\n",
    "linear_predictor.content_type = 'text/csv'\n",
    "linear_predictor.serializer = csv_serializer\n",
    "linear_predictor.deserializer = json_deserializer"
   ]
  },
  {
   "cell_type": "markdown",
   "metadata": {},
   "source": [
    "Prediction for the test data."
   ]
  },
  {
   "cell_type": "code",
   "execution_count": null,
   "metadata": {},
   "outputs": [],
   "source": [
    "import numpy as np\n",
    "\n",
    "predictions = []\n",
    "distance_from_hyperplane = []\n",
    "for array in np.array_split(test_data_matrix[:,:-1], 100):\n",
    "    result = linear_predictor.predict(array)\n",
    "    predictions += [r['predicted_label'] for r in result['predictions']]\n",
    "    distance_from_hyperplane += [r['score'] for r in result['predictions']]\n",
    "\n",
    "predictions_test = np.array(predictions)\n",
    "distance_from_hyperplane_test = np.array(distance_from_hyperplane)    \n",
    "\n",
    "import pandas as pd\n",
    "\n",
    "pd.crosstab(np.where(test_data_matrix[:,-1] == 1, 1, 0), predictions_test,\n",
    "            rownames=['actuals'], colnames=['predictions'])"
   ]
  },
  {
   "cell_type": "markdown",
   "metadata": {},
   "source": [
    "We selcted as sensitive feature the gender, dividing the data between \"female\" and \"male\". Let's check if our model is fair (in the sense of Equal Opportunity). In the following the performance concerning Accuracy, True Positive Rate (among the two groups and the whole dataset) and DEO."
   ]
  },
  {
   "cell_type": "code",
   "execution_count": null,
   "metadata": {},
   "outputs": [],
   "source": [
    "sensitive_feature_gender = 9  # Gender\n",
    "groupA_value = 0.0 # Female\n",
    "\n",
    "deo = deo_from_model(linear_predictor, test_data_matrix,\n",
    "                     sensitive_feature_gender, groupA_value=groupA_value)\n",
    "print('DEO: %f' % deo)"
   ]
  },
  {
   "cell_type": "markdown",
   "metadata": {},
   "source": [
    "A DEO of about $0.24$ is quite high, this means that there is a large gap between the True Positive Rate of the group A (female) and the group B (male) and cosequently there is not Equal Opportunity. \n",
    "\n",
    "In other words, we can say that for every $100$ correctly predicted positive examples in one group, the disadvantage group will have only $100 - 24 = 76$  of them. Consequently, it is clear that the distribution of the error is unfair, and our goal now is to solve this unfairness maintaining a comparable prediction accuracy.\n",
    "\n",
    "## Changing the data to impose fairness <a class=\"anchor\" id=\"impose_fairness\">\n",
    "\n",
    "In the case of linear model, there is a simple but powerful way to impose the fairness constraint$^{[3]}$, i.e. $DEO(f) = 0$. Firstly, we have to introduce the following vector $u$:\n",
    "\n",
    "$$ u = \\frac{1}{n(+, A)} \\sum_{x \\in X(+, A)} x - \\frac{1}{n(+, B)} \\sum_{x \\in X(+, B)} x,$$\n",
    "\n",
    "where $X(+, A)$ and $X(+, B)$ are the sets of positively labeled examples in group $A$ and $B$ and $n(+, A)$ and $n(+, B)$ their cardinalities. The vector $u$ represents the unfair model, and our goal is to impose a serach space of the models that is orthogonal to it. In the implementation we consider, without loss of generality, that the binary sensitive feature is $0$ for the gorup A and $+1$ for group B.\n",
    "\n",
    "In our linear case, we can impose this orthogonal constraint, i.e. impose the fairness, by applying a preprocessing of the original data as following:\n",
    "\n",
    "$$ \\hat{x}_j = x_j - x_i \\frac{u_j}{u_i} \\,\\,\\,\\, j \\in \\{1, \\dots, i-1, i+1, \\dots, d\\}.$$\n",
    "Where $i$ is the index of the sensitive feature and $\\hat{x}_j$ is the new value for the feature $j^{th}$. It is important to note that - as consequence of this method - the new data representation has a $1$ feature less compared the original one (in our case the sensitive feature).\n",
    "\n",
    "$^{[3]}$Michele Donini, et al. \"[Empirical Risk Minimization under Fairness Constraints](https://arxiv.org/abs/1802.08626).\" arXiv preprint arXiv:1802.08626 (2018)."
   ]
  },
  {
   "cell_type": "code",
   "execution_count": null,
   "metadata": {},
   "outputs": [],
   "source": [
    "class UncorrelationMethod:\n",
    "    def __init__(self, sensitive_feature, groupA_value=0.0):\n",
    "        self.val0 = groupA_value\n",
    "        self.sensitive_feature = sensitive_feature\n",
    "        self.u = None\n",
    "\n",
    "    def new_representation(self, examples):\n",
    "        if self.u is None:\n",
    "            print('You have to fit the model first...')\n",
    "            return examples\n",
    "        new_examples = np.array([ex if ex[self.sensitive_feature] == self.val0 # case x_i = 0, Group A\n",
    "                                 else ex + self.u for ex in examples]) # case x_i = 1, Group B\n",
    "        new_examples = np.delete(new_examples, self.sensitive_feature, 1)\n",
    "        return new_examples\n",
    "    \n",
    "    def fit(self, dataset):\n",
    "        tmp = [ex for idx, ex in enumerate(dataset)\n",
    "               if dataset[idx, -1] == 1 and ex[self.sensitive_feature] == self.val0]\n",
    "        average_A_1 = np.mean(tmp, 0)\n",
    "        n_A_1 = len(tmp)\n",
    "        tmp = [ex for idx, ex in enumerate(dataset)\n",
    "               if dataset[idx, -1] == 1 and ex[self.sensitive_feature] != self.val0]\n",
    "        average_not_A_1 = np.mean(tmp, 0)\n",
    "        n_not_A_1 = len(tmp)\n",
    "        N_1 = len([ex for idx, ex in enumerate(dataset) if dataset[idx, -1] == 1])\n",
    "        self.u = average_A_1[:-1] - average_not_A_1[:-1]\n",
    "        # Our hypothesis of values 0 (A) and +1 (B) for the sensitive feature among the two groups\n",
    "        # has the following consequence:\n",
    "        self.u[self.sensitive_feature] = -1.0"
   ]
  },
  {
   "cell_type": "markdown",
   "metadata": {},
   "source": [
    "At this point we are ready to apply this algorithm to our data."
   ]
  },
  {
   "cell_type": "code",
   "execution_count": null,
   "metadata": {},
   "outputs": [],
   "source": [
    "uncorr_data = UncorrelationMethod(sensitive_feature_gender, 0.0)\n",
    "uncorr_data.fit(training_data_matrix) \n",
    "new_training_data_matrix = np.hstack([uncorr_data.new_representation(training_data_matrix[:, :-1]),\n",
    "                                     training_data_matrix[:, -1:-2:-1]])\n",
    "new_test_data_matrix = np.hstack([uncorr_data.new_representation(test_data_matrix[:, :-1]),\n",
    "                                  test_data_matrix[:, -1:-2:-1]])"
   ]
  },
  {
   "cell_type": "markdown",
   "metadata": {},
   "source": [
    "### Train the model with the fair data <a class=\"anchor\" id=\"train_fair_model\">\n",
    "\n",
    "Now we have simply to repeat the training by using this new dataset. It is important to note that the new dataset has one feature less than the original one ($13$ instead of $14$)."
   ]
  },
  {
   "cell_type": "code",
   "execution_count": null,
   "metadata": {},
   "outputs": [],
   "source": [
    "vectors = np.array([t.tolist() for t in new_training_data_matrix[:,:-1]]).astype('float32')\n",
    "labels = np.where(np.array([t.tolist() for t in new_training_data_matrix[:,-1]]) == 1, 1, 0).astype('float32')\n",
    "\n",
    "buf = io.BytesIO()\n",
    "smac.write_numpy_to_dense_tensor(buf, vectors, labels)\n",
    "buf.seek(0)\n",
    "\n",
    "key = 'recordio-pb-data'\n",
    "boto3.resource('s3').Bucket(bucket).Object(os.path.join(prefix, 'train', key)).upload_fileobj(buf)\n",
    "s3_train_data = 's3://{}/{}/train/{}'.format(bucket, prefix, key)\n",
    "print('uploaded training data location: {}'.format(s3_train_data))\n",
    "\n",
    "output_location = 's3://{}/{}/output'.format(bucket, prefix)\n",
    "print('training artifacts will be uploaded to: {}'.format(output_location))\n",
    "\n",
    "linearf = sagemaker.estimator.Estimator(container,\n",
    "                                       role, \n",
    "                                       train_instance_count=1, \n",
    "                                       train_instance_type='ml.c4.xlarge',\n",
    "                                       output_path=output_location,\n",
    "                                       sagemaker_session=sess)\n",
    "linearf.set_hyperparameters(feature_dim=13,\n",
    "                           predictor_type='binary_classifier',\n",
    "                           mini_batch_size=200)\n",
    "\n",
    "path_fair_model = linearf.fit({'train': s3_train_data})\n",
    "\n",
    "linear_predictorf = linearf.deploy(initial_instance_count=1,\n",
    "                                 instance_type='ml.m4.xlarge')\n",
    "linear_predictorf.content_type = 'text/csv'\n",
    "linear_predictorf.serializer = csv_serializer\n",
    "linear_predictorf.deserializer = json_deserializer"
   ]
  },
  {
   "cell_type": "markdown",
   "metadata": {},
   "source": [
    "Now, we can calculate the predictions using our fair linear model."
   ]
  },
  {
   "cell_type": "code",
   "execution_count": null,
   "metadata": {},
   "outputs": [],
   "source": [
    "predictions = []\n",
    "distance_from_hyperplane = []\n",
    "for array in np.array_split(new_test_data_matrix[:,:-1], 100):\n",
    "    result = linear_predictorf.predict(array)\n",
    "    predictions += [r['predicted_label'] for r in result['predictions']]\n",
    "    distance_from_hyperplane += [r['score'] for r in result['predictions']]\n",
    "\n",
    "distance_from_hyperplane_test_fair = np.array(distance_from_hyperplane)    \n",
    "predictions_test_fair = np.array(predictions)\n",
    "pd.crosstab(np.where(new_test_data_matrix[:,-1] == 1, 1, 0), predictions_test_fair,\n",
    "            rownames=['actuals'], colnames=['predictions'])"
   ]
  },
  {
   "cell_type": "markdown",
   "metadata": {},
   "source": [
    "### Accuracy and Fairness of the fair model <a class=\"anchor\" id=\"performance_fair_model\">\n",
    "Let's see the performance concerning accuracy and fairness for our new model. We selcted as sensitive feature the Gender, dividing the data between \"female\" and \"male\"."
   ]
  },
  {
   "cell_type": "code",
   "execution_count": null,
   "metadata": {},
   "outputs": [],
   "source": [
    "groupA_idxs = [idx for idx, val in enumerate(test_data_matrix)\n",
    "               if val[sensitive_feature_gender] == groupA_value]\n",
    "groupB_idxs = [idx for idx, val in enumerate(test_data_matrix)\n",
    "               if val[sensitive_feature_gender] != groupA_value]\n",
    "deo = deo_from_list(new_test_data_matrix, predictions_test_fair, groupA_idxs, groupB_idxs)\n",
    "print('DEO: %f' % deo)"
   ]
  },
  {
   "cell_type": "markdown",
   "metadata": {},
   "source": [
    "The comparison with respect to the original model is the following:\n",
    "- Concerning the accuracy the difference is not significative. In fact, from an original $0.8235$ of accuracy, we obtain $0.8086$ (decrease of about $1.8 \\%$).\n",
    "- Concerning the DEO, the original model has a level of unfairness of $0.2404$ and our fair model of $0.0612$, with a decrese of more than $75 \\%$.\n",
    "\n",
    "## Sanity check: performance on the training set  <a class=\"anchor\" id=\"performance_fair_model_train\">\n",
    "\n",
    "Let's see the performance of our method on the training set in order to see if we apply the correct constraint and we do not overfit the data."
   ]
  },
  {
   "cell_type": "code",
   "execution_count": null,
   "metadata": {},
   "outputs": [],
   "source": [
    "predictions = []\n",
    "distance_from_hyperplane = []\n",
    "for array in np.array_split(new_training_data_matrix[:,:-1], 100):\n",
    "    result = linear_predictorf.predict(array)\n",
    "    predictions += [r['predicted_label'] for r in result['predictions']]\n",
    "    distance_from_hyperplane += [r['score'] for r in result['predictions']]\n",
    "\n",
    "distance_from_hyperplane_train_fair = np.array(distance_from_hyperplane)    \n",
    "predictions_train_fair = np.array(predictions)\n",
    "pd.crosstab(np.where(new_training_data_matrix[:,-1] == 1, 1, 0),\n",
    "            predictions_train_fair, rownames=['actuals'], colnames=['predictions'])\n",
    "\n",
    "groupA_idxs = [idx for idx, val in enumerate(training_data_matrix)\n",
    "               if val[sensitive_feature_gender] == groupA_value]\n",
    "groupB_idxs = [idx for idx, val in enumerate(training_data_matrix)\n",
    "               if val[sensitive_feature_gender] != groupA_value]\n",
    "\n",
    "deo = deo_from_list(new_training_data_matrix, predictions_train_fair, groupA_idxs, groupB_idxs)\n",
    "print('DEO: %f' % deo)"
   ]
  },
  {
   "cell_type": "markdown",
   "metadata": {},
   "source": [
    "The value of the DEO is 0.0097. This confirm that our method is able to implement the fairness constraint in the linear case.\n",
    "\n",
    "## Distribution of the outputs <a class=\"anchor\" id=\"distrib\">\n",
    "\n",
    "Now we plot the values of $\\langle w,x \\rangle - b$ for all the examples $x$ with $y=1$, where $w$ is the trained model, for both the original model and our fair one. The value $\\langle w,x \\rangle - b$ can be considered as the distance of $x$ from the hyperplane that divides our feature space between positive and negative examples. When this value is positive means that our classifier predicts a positive label for the example $x$. Consequently, the area of the histogram is a visualization of the True Positive Rate (the difference between the blue and orange areas is an approximation of the DEO). For this reason, similar blue and orange areas measn a more fair model (with respect to the senstive feature \"gender\")."
   ]
  },
  {
   "cell_type": "raw",
   "metadata": {},
   "source": [
    "import matplotlib.pyplot as plt\n",
    "\n",
    "sensitive_feature = sensitive_feature_gender\n",
    "\n",
    "SMALL_SIZE = 12\n",
    "MEDIUM_SIZE = 12\n",
    "BIGGER_SIZE = 16\n",
    "bins = 30\n",
    "\n",
    "X = training_data_matrix[:, :-1]\n",
    "y = training_data_matrix[:, -1]\n",
    "Xte = test_data_matrix[:, :-1]\n",
    "yte = test_data_matrix[:, -1]\n",
    "ypos = np.max(y)\n",
    "yneg = np.min(y)\n",
    "idx_group_A1 = [idx for idx, v in enumerate(Xte) \n",
    "                if v[sensitive_feature] == groupA_value and yte[idx] == ypos]\n",
    "idx_group_B1 = [idx for idx, v in enumerate(Xte) \n",
    "                if v[sensitive_feature] != groupA_value and yte[idx] == ypos]\n",
    "\n",
    "\n",
    "titles = ['Adult Dataset - TPR Area - Linear',\n",
    "         'Adult Dataset - TPR Area - Fair Linear']\n",
    "for i,distance_from_hyperplane in enumerate([distance_from_hyperplane_test,\n",
    "                                           distance_from_hyperplane_test_fair]):\n",
    "    distance_from_hyperplane = distance_from_hyperplane - 0.5\n",
    "    xmin = np.min([np.min(distance_from_hyperplane[idx_group_A1]),\n",
    "                   np.min(distance_from_hyperplane[idx_group_B1])])\n",
    "    xmax = np.max([np.max(distance_from_hyperplane[idx_group_A1]),\n",
    "                   np.max(distance_from_hyperplane[idx_group_B1])])\n",
    "    fig, ax = plt.subplots(figsize=(8, 6), dpi=90)\n",
    "    plt.rc('font', size=SMALL_SIZE)          # controls default text sizes\n",
    "    plt.rc('axes', titlesize=SMALL_SIZE)     # fontsize of the axes title\n",
    "    plt.rc('axes', labelsize=MEDIUM_SIZE)    # fontsize of the x and y labels\n",
    "    plt.rc('xtick', labelsize=SMALL_SIZE)    # fontsize of the tick labels\n",
    "    plt.rc('ytick', labelsize=SMALL_SIZE)    # fontsize of the tick labels\n",
    "    plt.rc('legend', fontsize=MEDIUM_SIZE)    # legend fontsize\n",
    "    #plt.rc('figure', titlesize=MEDIUM_SIZE)  # fontsize of the figure title\n",
    "    pdf, bins, patches = ax.hist(distance_from_hyperplane[idx_group_A1], bins=bins,\n",
    "                                 density=True, stacked=True, label='A=Female, Y=1', alpha=1.0)\n",
    "    ax.hist(distance_from_hyperplane[idx_group_B1], bins=bins, density=True,\n",
    "            stacked=True, label='B=Male, Y=1', alpha=0.5)\n",
    "    ax.legend(loc='upper left')\n",
    "    ax.set_xlim(left=0.0, right=xmax)\n",
    "    ax.set_ylim(0, 3)\n",
    "    plt.title(titles[i])\n",
    "\n",
    "plt.show()"
   ]
  },
  {
   "cell_type": "markdown",
   "metadata": {},
   "source": [
    "### (Optional) Delete the Endpoint\n",
    "\n",
    "If you're ready to be done with this notebook, please run the delete_endpoint line in the cell below.  This will remove the hosted endpoint you created and avoid any charges from a stray instance being left on."
   ]
  },
  {
   "cell_type": "code",
   "execution_count": null,
   "metadata": {},
   "outputs": [],
   "source": [
    "import sagemaker\n",
    "\n",
    "sagemaker.Session().delete_endpoint(linear_predictor.endpoint)\n",
    "sagemaker.Session().delete_endpoint(linear_predictorf.endpoint)"
   ]
  },
  {
   "cell_type": "markdown",
   "metadata": {},
   "source": [
    "Copyright 2018 Amazon.com, Inc. or its affiliates. All Rights Reserved.  Licensed under the Apache License, Version 2.0 (the \\\"License\\\"). You may not use this file except in compliance with the License. A copy of the License is located at http://aws.amazon.com/apache2.0/ or in the \\\"license\\\" file accompanying this file. This file is distributed on an \\\"AS IS\\\" BASIS, WITHOUT WARRANTIES OR CONDITIONS OF ANY KIND, either express or implied. See the License for the specific language governing permissions and limitations under the License."
   ]
  }
 ],
 "metadata": {
  "kernelspec": {
   "display_name": "conda_python3",
   "language": "python",
   "name": "conda_python3"
  },
  "language_info": {
   "codemirror_mode": {
    "name": "ipython",
    "version": 3
   },
   "file_extension": ".py",
   "mimetype": "text/x-python",
   "name": "python",
   "nbconvert_exporter": "python",
   "pygments_lexer": "ipython3",
   "version": "3.6.5"
  }
 },
 "nbformat": 4,
 "nbformat_minor": 2
}
