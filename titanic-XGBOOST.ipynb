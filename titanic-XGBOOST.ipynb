{
 "cells": [
  {
   "cell_type": "markdown",
   "metadata": {},
   "source": [
    "# Titanic Survivability Linear Learner in SageMaker"
   ]
  },
  {
   "cell_type": "markdown",
   "metadata": {},
   "source": [
    "## Prerequisites and Data <a class=\"anchor\" id=\"pre_and_data\">\n",
    "### Initialize SageMaker  <a class=\"anchor\" id=\"initsagemaker\">\n",
    "Add the data files for training set, test set and validation set"
   ]
  },
  {
   "cell_type": "code",
   "execution_count": 3,
   "metadata": {},
   "outputs": [
    {
     "name": "stdout",
     "output_type": "stream",
     "text": [
      "1. finished uploading training set\n"
     ]
    }
   ],
   "source": [
    "import sagemaker\n",
    "from sagemaker import Session\n",
    "bucket = 'ml-i6-breakingcode'\n",
    "prefix = 'sagemaker/ebsco-titanic-survivabiity'\n",
    "\n",
    "# Define IAM role\n",
    "import re\n",
    "from sagemaker import get_execution_role\n",
    "import pandas as pd\n",
    "import numpy as np\n",
    "import urllib\n",
    "import os\n",
    "import sklearn.preprocessing as preprocessing\n",
    "import seaborn as sns\n",
    "\n",
    "role = get_execution_role()\n",
    "data_key = 'train.csv'\n",
    "data_location = 's3://{}/{}'.format(bucket, data_key)\n",
    "training_set = pd.read_csv(data_location)\n",
    "print(\"1. finished uploading training set\")"
   ]
  },
  {
   "cell_type": "markdown",
   "metadata": {},
   "source": [
    "### Data Manipulation <a class=\"anchor\" id=\"inspect_data\">\n",
    "Remove columns that doesn't affect the analysis from the training set"
   ]
  },
  {
   "cell_type": "code",
   "execution_count": 4,
   "metadata": {},
   "outputs": [],
   "source": [
    "clean_data = training_set.drop(\"Name\", axis = 1)\n",
    "clean_data.head()\n",
    "clean_data = clean_data.drop(\"Ticket\", axis = 1)\n",
    "clean_data.head()\n",
    "clean_data = clean_data.drop(\"Cabin\", axis = 1)\n",
    "clean_data.head()\n",
    "clean_data = clean_data.drop(\"PassengerId\", axis = 1)\n",
    "clean_data.head()\n",
    "clean_data = pd.get_dummies(clean_data, columns = [\"Sex\"])\n",
    "clean_data.head()\n",
    "clean_data = pd.get_dummies(clean_data, columns = [\"Embarked\"])\n",
    "clean_data.head()\n",
    "clean_data = clean_data.dropna(how='any',axis = 0)\n",
    "clean_data.head()\n",
    "\n",
    "train_data, validation_data, test_data = np.split(clean_data.sample(frac=1, random_state=1729), [int(0.7 * len(removeheader)), int(0.9 * len(removeheader))])\n",
    "train_data.to_csv('train.csv', header=False, index=False)\n",
    "validation_data.to_csv('validation.csv', header=False, index=False)"
   ]
  },
  {
   "cell_type": "markdown",
   "metadata": {},
   "source": [
    "Upload the train set and validation set into s3 bucket"
   ]
  },
  {
   "cell_type": "code",
   "execution_count": 5,
   "metadata": {},
   "outputs": [],
   "source": [
    "import boto3\n",
    "boto3.Session().resource('s3').Bucket(bucket).Object(os.path.join(prefix, 'train/train.csv')).upload_file('train.csv')\n",
    "boto3.Session().resource('s3').Bucket(bucket).Object(os.path.join(prefix, 'validation/validation.csv')).upload_file('validation.csv')"
   ]
  },
  {
   "cell_type": "markdown",
   "metadata": {},
   "source": [
    "## Standard linear model  <a class=\"anchor\" id=\"train_linear_model\">\n",
    "\n",
    "Once we have the data preprocessed and available in the correct format for training, the next step is to actually train the model using the data. More details on algorithm containers can be found in [AWS documentation](https://docs-aws.amazon.com/sagemaker/latest/dg/sagemaker-algo-docker-registry-paths.html)."
   ]
  },
  {
   "cell_type": "code",
   "execution_count": 6,
   "metadata": {},
   "outputs": [
    {
     "name": "stdout",
     "output_type": "stream",
     "text": [
      "2019-07-03 15:02:18 Starting - Starting the training job...\n",
      "2019-07-03 15:02:22 Starting - Launching requested ML instances......\n",
      "2019-07-03 15:03:23 Starting - Preparing the instances for training......\n",
      "2019-07-03 15:04:31 Downloading - Downloading input data...\n",
      "2019-07-03 15:05:05 Training - Downloading the training image..\n",
      "\u001b[31mArguments: train\u001b[0m\n",
      "\u001b[31m[2019-07-03:15:05:24:INFO] Running standalone xgboost training.\u001b[0m\n",
      "\u001b[31m[2019-07-03:15:05:24:INFO] File size need to be processed in the node: 0.02mb. Available memory size in the node: 8471.57mb\u001b[0m\n",
      "\u001b[31m[2019-07-03:15:05:24:INFO] Determined delimiter of CSV input is ','\u001b[0m\n",
      "\u001b[31m[15:05:24] S3DistributionType set as FullyReplicated\u001b[0m\n",
      "\u001b[31m[15:05:24] 499x10 matrix with 4990 entries loaded from /opt/ml/input/data/train?format=csv&label_column=0&delimiter=,\u001b[0m\n",
      "\u001b[31m[2019-07-03:15:05:24:INFO] Determined delimiter of CSV input is ','\u001b[0m\n",
      "\u001b[31m[15:05:24] S3DistributionType set as FullyReplicated\u001b[0m\n",
      "\u001b[31m[15:05:24] 142x10 matrix with 1420 entries loaded from /opt/ml/input/data/validation?format=csv&label_column=0&delimiter=,\u001b[0m\n",
      "\u001b[31m[15:05:24] src/tree/updater_prune.cc:74: tree pruning end, 1 roots, 8 extra nodes, 4 pruned nodes, max_depth=3\u001b[0m\n",
      "\u001b[31m[0]#011train-error:0.224449#011validation-error:0.147887\u001b[0m\n",
      "\u001b[31m[15:05:24] src/tree/updater_prune.cc:74: tree pruning end, 1 roots, 12 extra nodes, 0 pruned nodes, max_depth=3\u001b[0m\n",
      "\u001b[31m[1]#011train-error:0.202405#011validation-error:0.183099\u001b[0m\n",
      "\u001b[31m[15:05:24] src/tree/updater_prune.cc:74: tree pruning end, 1 roots, 8 extra nodes, 6 pruned nodes, max_depth=3\u001b[0m\n",
      "\u001b[31m[2]#011train-error:0.202405#011validation-error:0.183099\u001b[0m\n",
      "\u001b[31m[15:05:24] src/tree/updater_prune.cc:74: tree pruning end, 1 roots, 8 extra nodes, 10 pruned nodes, max_depth=3\u001b[0m\n",
      "\u001b[31m[3]#011train-error:0.202405#011validation-error:0.183099\u001b[0m\n",
      "\u001b[31m[15:05:24] src/tree/updater_prune.cc:74: tree pruning end, 1 roots, 6 extra nodes, 10 pruned nodes, max_depth=2\u001b[0m\n",
      "\u001b[31m[4]#011train-error:0.202405#011validation-error:0.183099\u001b[0m\n",
      "\u001b[31m[5]#011train-error:0.206413#011validation-error:0.183099\u001b[0m\n",
      "\u001b[31m[6]#011train-error:0.202405#011validation-error:0.176056\u001b[0m\n",
      "\u001b[31m[15:05:24] src/tree/updater_prune.cc:74: tree pruning end, 1 roots, 4 extra nodes, 12 pruned nodes, max_depth=2\u001b[0m\n",
      "\u001b[31m[15:05:24] src/tree/updater_prune.cc:74: tree pruning end, 1 roots, 6 extra nodes, 10 pruned nodes, max_depth=3\u001b[0m\n",
      "\u001b[31m[15:05:24] src/tree/updater_prune.cc:74: tree pruning end, 1 roots, 10 extra nodes, 6 pruned nodes, max_depth=5\u001b[0m\n",
      "\u001b[31m[7]#011train-error:0.196393#011validation-error:0.176056\u001b[0m\n",
      "\u001b[31m[15:05:24] src/tree/updater_prune.cc:74: tree pruning end, 1 roots, 8 extra nodes, 8 pruned nodes, max_depth=3\u001b[0m\n",
      "\u001b[31m[8]#011train-error:0.184369#011validation-error:0.176056\u001b[0m\n",
      "\u001b[31m[15:05:24] src/tree/updater_prune.cc:74: tree pruning end, 1 roots, 4 extra nodes, 10 pruned nodes, max_depth=2\u001b[0m\n",
      "\u001b[31m[9]#011train-error:0.180361#011validation-error:0.169014\u001b[0m\n",
      "\u001b[31m[15:05:24] src/tree/updater_prune.cc:74: tree pruning end, 1 roots, 2 extra nodes, 8 pruned nodes, max_depth=1\u001b[0m\n",
      "\u001b[31m[10]#011train-error:0.180361#011validation-error:0.169014\u001b[0m\n",
      "\u001b[31m[15:05:24] src/tree/updater_prune.cc:74: tree pruning end, 1 roots, 4 extra nodes, 10 pruned nodes, max_depth=2\u001b[0m\n",
      "\u001b[31m[11]#011train-error:0.178357#011validation-error:0.133803\u001b[0m\n",
      "\u001b[31m[15:05:24] src/tree/updater_prune.cc:74: tree pruning end, 1 roots, 4 extra nodes, 10 pruned nodes, max_depth=2\u001b[0m\n",
      "\u001b[31m[12]#011train-error:0.188377#011validation-error:0.140845\u001b[0m\n",
      "\u001b[31m[15:05:24] src/tree/updater_prune.cc:74: tree pruning end, 1 roots, 0 extra nodes, 12 pruned nodes, max_depth=0\u001b[0m\n",
      "\u001b[31m[13]#011train-error:0.188377#011validation-error:0.140845\u001b[0m\n",
      "\u001b[31m[15:05:24] src/tree/updater_prune.cc:74: tree pruning end, 1 roots, 4 extra nodes, 10 pruned nodes, max_depth=2\u001b[0m\n",
      "\u001b[31m[14]#011train-error:0.178357#011validation-error:0.133803\u001b[0m\n",
      "\u001b[31m[15:05:24] src/tree/updater_prune.cc:74: tree pruning end, 1 roots, 6 extra nodes, 8 pruned nodes, max_depth=3\u001b[0m\n",
      "\u001b[31m[15]#011train-error:0.180361#011validation-error:0.133803\u001b[0m\n",
      "\u001b[31m[15:05:24] src/tree/updater_prune.cc:74: tree pruning end, 1 roots, 4 extra nodes, 8 pruned nodes, max_depth=2\u001b[0m\n",
      "\u001b[31m[16]#011train-error:0.178357#011validation-error:0.133803\u001b[0m\n",
      "\u001b[31m[17]#011train-error:0.178357#011validation-error:0.133803\u001b[0m\n",
      "\u001b[31m[18]#011train-error:0.178357#011validation-error:0.133803\u001b[0m\n",
      "\u001b[31m[19]#011train-error:0.178357#011validation-error:0.133803\u001b[0m\n",
      "\u001b[31m[20]#011train-error:0.178357#011validation-error:0.133803\u001b[0m\n",
      "\u001b[31m[21]#011train-error:0.178357#011validation-error:0.133803\u001b[0m\n",
      "\u001b[31m[22]#011train-error:0.176353#011validation-error:0.15493\u001b[0m\n",
      "\u001b[31m[23]#011train-error:0.176353#011validation-error:0.15493\u001b[0m\n",
      "\u001b[31m[24]#011train-error:0.168337#011validation-error:0.15493\u001b[0m\n",
      "\u001b[31m[25]#011train-error:0.168337#011validation-error:0.15493\u001b[0m\n",
      "\u001b[31m[26]#011train-error:0.168337#011validation-error:0.15493\u001b[0m\n",
      "\u001b[31m[27]#011train-error:0.168337#011validation-error:0.15493\u001b[0m\n",
      "\u001b[31m[28]#011train-error:0.168337#011validation-error:0.15493\u001b[0m\n",
      "\u001b[31m[15:05:24] src/tree/updater_prune.cc:74: tree pruning end, 1 roots, 0 extra nodes, 12 pruned nodes, max_depth=0\u001b[0m\n",
      "\u001b[31m[15:05:24] src/tree/updater_prune.cc:74: tree pruning end, 1 roots, 0 extra nodes, 14 pruned nodes, max_depth=0\u001b[0m\n",
      "\u001b[31m[15:05:24] src/tree/updater_prune.cc:74: tree pruning end, 1 roots, 0 extra nodes, 12 pruned nodes, max_depth=0\u001b[0m\n",
      "\u001b[31m[15:05:24] src/tree/updater_prune.cc:74: tree pruning end, 1 roots, 0 extra nodes, 14 pruned nodes, max_depth=0\u001b[0m\n",
      "\u001b[31m[15:05:24] src/tree/updater_prune.cc:74: tree pruning end, 1 roots, 0 extra nodes, 14 pruned nodes, max_depth=0\u001b[0m\n",
      "\u001b[31m[15:05:24] src/tree/updater_prune.cc:74: tree pruning end, 1 roots, 4 extra nodes, 10 pruned nodes, max_depth=2\u001b[0m\n",
      "\u001b[31m[15:05:24] src/tree/updater_prune.cc:74: tree pruning end, 1 roots, 0 extra nodes, 14 pruned nodes, max_depth=0\u001b[0m\n",
      "\u001b[31m[15:05:24] src/tree/updater_prune.cc:74: tree pruning end, 1 roots, 2 extra nodes, 14 pruned nodes, max_depth=1\u001b[0m\n",
      "\u001b[31m[15:05:24] src/tree/updater_prune.cc:74: tree pruning end, 1 roots, 0 extra nodes, 14 pruned nodes, max_depth=0\u001b[0m\n",
      "\u001b[31m[15:05:24] src/tree/updater_prune.cc:74: tree pruning end, 1 roots, 0 extra nodes, 12 pruned nodes, max_depth=0\u001b[0m\n",
      "\u001b[31m[15:05:24] src/tree/updater_prune.cc:74: tree pruning end, 1 roots, 0 extra nodes, 12 pruned nodes, max_depth=0\u001b[0m\n",
      "\u001b[31m[15:05:24] src/tree/updater_prune.cc:74: tree pruning end, 1 roots, 0 extra nodes, 12 pruned nodes, max_depth=0\u001b[0m\n",
      "\u001b[31m[29]#011train-error:0.168337#011validation-error:0.15493\u001b[0m\n",
      "\u001b[31m[15:05:24] src/tree/updater_prune.cc:74: tree pruning end, 1 roots, 0 extra nodes, 10 pruned nodes, max_depth=0\u001b[0m\n",
      "\u001b[31m[15:05:24] src/tree/updater_prune.cc:74: tree pruning end, 1 roots, 0 extra nodes, 14 pruned nodes, max_depth=0\u001b[0m\n",
      "\u001b[31m[30]#011train-error:0.168337#011validation-error:0.15493\u001b[0m\n",
      "\u001b[31m[15:05:24] src/tree/updater_prune.cc:74: tree pruning end, 1 roots, 0 extra nodes, 14 pruned nodes, max_depth=0\u001b[0m\n",
      "\u001b[31m[31]#011train-error:0.168337#011validation-error:0.15493\u001b[0m\n",
      "\u001b[31m[15:05:24] src/tree/updater_prune.cc:74: tree pruning end, 1 roots, 0 extra nodes, 10 pruned nodes, max_depth=0\u001b[0m\n",
      "\u001b[31m[32]#011train-error:0.168337#011validation-error:0.15493\u001b[0m\n",
      "\u001b[31m[15:05:24] src/tree/updater_prune.cc:74: tree pruning end, 1 roots, 0 extra nodes, 12 pruned nodes, max_depth=0\u001b[0m\n",
      "\u001b[31m[33]#011train-error:0.168337#011validation-error:0.15493\u001b[0m\n",
      "\u001b[31m[15:05:24] src/tree/updater_prune.cc:74: tree pruning end, 1 roots, 0 extra nodes, 12 pruned nodes, max_depth=0\u001b[0m\n",
      "\u001b[31m[34]#011train-error:0.168337#011validation-error:0.15493\u001b[0m\n",
      "\u001b[31m[15:05:24] src/tree/updater_prune.cc:74: tree pruning end, 1 roots, 0 extra nodes, 14 pruned nodes, max_depth=0\u001b[0m\n",
      "\u001b[31m[35]#011train-error:0.168337#011validation-error:0.15493\u001b[0m\n",
      "\u001b[31m[15:05:24] src/tree/updater_prune.cc:74: tree pruning end, 1 roots, 0 extra nodes, 14 pruned nodes, max_depth=0\u001b[0m\n",
      "\u001b[31m[36]#011train-error:0.168337#011validation-error:0.15493\u001b[0m\n",
      "\u001b[31m[15:05:24] src/tree/updater_prune.cc:74: tree pruning end, 1 roots, 0 extra nodes, 14 pruned nodes, max_depth=0\u001b[0m\n",
      "\u001b[31m[37]#011train-error:0.168337#011validation-error:0.15493\u001b[0m\n",
      "\u001b[31m[15:05:24] src/tree/updater_prune.cc:74: tree pruning end, 1 roots, 4 extra nodes, 8 pruned nodes, max_depth=2\u001b[0m\n",
      "\u001b[31m[38]#011train-error:0.168337#011validation-error:0.15493\u001b[0m\n",
      "\u001b[31m[15:05:24] src/tree/updater_prune.cc:74: tree pruning end, 1 roots, 0 extra nodes, 14 pruned nodes, max_depth=0\u001b[0m\n",
      "\u001b[31m[39]#011train-error:0.172345#011validation-error:0.15493\u001b[0m\n",
      "\u001b[31m[15:05:24] src/tree/updater_prune.cc:74: tree pruning end, 1 roots, 0 extra nodes, 14 pruned nodes, max_depth=0\u001b[0m\n",
      "\u001b[31m[40]#011train-error:0.172345#011validation-error:0.15493\u001b[0m\n",
      "\u001b[31m[15:05:24] src/tree/updater_prune.cc:74: tree pruning end, 1 roots, 0 extra nodes, 12 pruned nodes, max_depth=0\u001b[0m\n",
      "\u001b[31m[41]#011train-error:0.168337#011validation-error:0.15493\u001b[0m\n",
      "\u001b[31m[15:05:24] src/tree/updater_prune.cc:74: tree pruning end, 1 roots, 0 extra nodes, 12 pruned nodes, max_depth=0\u001b[0m\n",
      "\u001b[31m[42]#011train-error:0.168337#011validation-error:0.15493\u001b[0m\n",
      "\u001b[31m[15:05:24] src/tree/updater_prune.cc:74: tree pruning end, 1 roots, 0 extra nodes, 14 pruned nodes, max_depth=0\u001b[0m\n",
      "\u001b[31m[43]#011train-error:0.172345#011validation-error:0.15493\u001b[0m\n",
      "\u001b[31m[15:05:24] src/tree/updater_prune.cc:74: tree pruning end, 1 roots, 0 extra nodes, 14 pruned nodes, max_depth=0\u001b[0m\n",
      "\u001b[31m[44]#011train-error:0.168337#011validation-error:0.15493\u001b[0m\n",
      "\u001b[31m[15:05:24] src/tree/updater_prune.cc:74: tree pruning end, 1 roots, 0 extra nodes, 12 pruned nodes, max_depth=0\u001b[0m\n",
      "\u001b[31m[45]#011train-error:0.168337#011validation-error:0.15493\u001b[0m\n",
      "\u001b[31m[15:05:24] src/tree/updater_prune.cc:74: tree pruning end, 1 roots, 0 extra nodes, 14 pruned nodes, max_depth=0\u001b[0m\n",
      "\u001b[31m[46]#011train-error:0.168337#011validation-error:0.15493\u001b[0m\n",
      "\u001b[31m[15:05:24] src/tree/updater_prune.cc:74: tree pruning end, 1 roots, 0 extra nodes, 12 pruned nodes, max_depth=0\u001b[0m\n",
      "\u001b[31m[47]#011train-error:0.168337#011validation-error:0.15493\u001b[0m\n",
      "\u001b[31m[15:05:24] src/tree/updater_prune.cc:74: tree pruning end, 1 roots, 0 extra nodes, 14 pruned nodes, max_depth=0\u001b[0m\n",
      "\u001b[31m[48]#011train-error:0.168337#011validation-error:0.15493\u001b[0m\n",
      "\u001b[31m[15:05:24] src/tree/updater_prune.cc:74: tree pruning end, 1 roots, 8 extra nodes, 4 pruned nodes, max_depth=4\u001b[0m\n",
      "\u001b[31m[49]#011train-error:0.180361#011validation-error:0.15493\u001b[0m\n",
      "\u001b[31m[15:05:24] src/tree/updater_prune.cc:74: tree pruning end, 1 roots, 0 extra nodes, 12 pruned nodes, max_depth=0\u001b[0m\n",
      "\u001b[31m[50]#011train-error:0.180361#011validation-error:0.15493\u001b[0m\n",
      "\u001b[31m[15:05:24] src/tree/updater_prune.cc:74: tree pruning end, 1 roots, 0 extra nodes, 12 pruned nodes, max_depth=0\u001b[0m\n",
      "\u001b[31m[51]#011train-error:0.180361#011validation-error:0.15493\u001b[0m\n",
      "\u001b[31m[15:05:24] src/tree/updater_prune.cc:74: tree pruning end, 1 roots, 0 extra nodes, 12 pruned nodes, max_depth=0\u001b[0m\n",
      "\u001b[31m[52]#011train-error:0.180361#011validation-error:0.15493\u001b[0m\n",
      "\u001b[31m[15:05:24] src/tree/updater_prune.cc:74: tree pruning end, 1 roots, 0 extra nodes, 12 pruned nodes, max_depth=0\u001b[0m\n",
      "\u001b[31m[53]#011train-error:0.180361#011validation-error:0.15493\u001b[0m\n",
      "\u001b[31m[15:05:24] src/tree/updater_prune.cc:74: tree pruning end, 1 roots, 0 extra nodes, 14 pruned nodes, max_depth=0\u001b[0m\n",
      "\u001b[31m[54]#011train-error:0.180361#011validation-error:0.15493\u001b[0m\n",
      "\u001b[31m[15:05:24] src/tree/updater_prune.cc:74: tree pruning end, 1 roots, 0 extra nodes, 12 pruned nodes, max_depth=0\u001b[0m\n",
      "\u001b[31m[55]#011train-error:0.180361#011validation-error:0.15493\u001b[0m\n",
      "\u001b[31m[15:05:24] src/tree/updater_prune.cc:74: tree pruning end, 1 roots, 4 extra nodes, 6 pruned nodes, max_depth=2\u001b[0m\n",
      "\u001b[31m[56]#011train-error:0.178357#011validation-error:0.15493\u001b[0m\n",
      "\u001b[31m[15:05:24] src/tree/updater_prune.cc:74: tree pruning end, 1 roots, 0 extra nodes, 14 pruned nodes, max_depth=0\u001b[0m\n",
      "\u001b[31m[57]#011train-error:0.178357#011validation-error:0.15493\u001b[0m\n",
      "\u001b[31m[15:05:24] src/tree/updater_prune.cc:74: tree pruning end, 1 roots, 0 extra nodes, 10 pruned nodes, max_depth=0\u001b[0m\n",
      "\u001b[31m[58]#011train-error:0.178357#011validation-error:0.15493\u001b[0m\n",
      "\u001b[31m[15:05:24] src/tree/updater_prune.cc:74: tree pruning end, 1 roots, 0 extra nodes, 14 pruned nodes, max_depth=0\u001b[0m\n",
      "\u001b[31m[59]#011train-error:0.178357#011validation-error:0.15493\u001b[0m\n",
      "\u001b[31m[15:05:24] src/tree/updater_prune.cc:74: tree pruning end, 1 roots, 0 extra nodes, 16 pruned nodes, max_depth=0\u001b[0m\n",
      "\u001b[31m[60]#011train-error:0.178357#011validation-error:0.15493\u001b[0m\n",
      "\u001b[31m[15:05:24] src/tree/updater_prune.cc:74: tree pruning end, 1 roots, 0 extra nodes, 12 pruned nodes, max_depth=0\u001b[0m\n",
      "\u001b[31m[61]#011train-error:0.178357#011validation-error:0.15493\u001b[0m\n",
      "\u001b[31m[15:05:24] src/tree/updater_prune.cc:74: tree pruning end, 1 roots, 0 extra nodes, 12 pruned nodes, max_depth=0\u001b[0m\n",
      "\u001b[31m[62]#011train-error:0.178357#011validation-error:0.15493\u001b[0m\n",
      "\u001b[31m[15:05:24] src/tree/updater_prune.cc:74: tree pruning end, 1 roots, 0 extra nodes, 10 pruned nodes, max_depth=0\u001b[0m\n",
      "\u001b[31m[63]#011train-error:0.178357#011validation-error:0.15493\u001b[0m\n",
      "\u001b[31m[15:05:24] src/tree/updater_prune.cc:74: tree pruning end, 1 roots, 0 extra nodes, 10 pruned nodes, max_depth=0\u001b[0m\n",
      "\u001b[31m[64]#011train-error:0.178357#011validation-error:0.15493\u001b[0m\n",
      "\u001b[31m[15:05:24] src/tree/updater_prune.cc:74: tree pruning end, 1 roots, 0 extra nodes, 12 pruned nodes, max_depth=0\u001b[0m\n",
      "\u001b[31m[65]#011train-error:0.178357#011validation-error:0.15493\u001b[0m\n",
      "\u001b[31m[15:05:24] src/tree/updater_prune.cc:74: tree pruning end, 1 roots, 0 extra nodes, 10 pruned nodes, max_depth=0\u001b[0m\n",
      "\u001b[31m[66]#011train-error:0.178357#011validation-error:0.15493\u001b[0m\n",
      "\u001b[31m[15:05:24] src/tree/updater_prune.cc:74: tree pruning end, 1 roots, 0 extra nodes, 14 pruned nodes, max_depth=0\u001b[0m\n",
      "\u001b[31m[67]#011train-error:0.178357#011validation-error:0.15493\u001b[0m\n",
      "\u001b[31m[15:05:24] src/tree/updater_prune.cc:74: tree pruning end, 1 roots, 0 extra nodes, 12 pruned nodes, max_depth=0\u001b[0m\n",
      "\u001b[31m[68]#011train-error:0.178357#011validation-error:0.15493\u001b[0m\n",
      "\u001b[31m[15:05:24] src/tree/updater_prune.cc:74: tree pruning end, 1 roots, 0 extra nodes, 12 pruned nodes, max_depth=0\u001b[0m\n",
      "\u001b[31m[69]#011train-error:0.178357#011validation-error:0.15493\u001b[0m\n",
      "\u001b[31m[15:05:24] src/tree/updater_prune.cc:74: tree pruning end, 1 roots, 0 extra nodes, 14 pruned nodes, max_depth=0\u001b[0m\n",
      "\u001b[31m[70]#011train-error:0.178357#011validation-error:0.15493\u001b[0m\n",
      "\u001b[31m[15:05:24] src/tree/updater_prune.cc:74: tree pruning end, 1 roots, 6 extra nodes, 8 pruned nodes, max_depth=3\u001b[0m\n",
      "\u001b[31m[71]#011train-error:0.168337#011validation-error:0.169014\u001b[0m\n",
      "\u001b[31m[15:05:24] src/tree/updater_prune.cc:74: tree pruning end, 1 roots, 4 extra nodes, 10 pruned nodes, max_depth=2\u001b[0m\n",
      "\u001b[31m[72]#011train-error:0.170341#011validation-error:0.169014\u001b[0m\n",
      "\u001b[31m[15:05:24] src/tree/updater_prune.cc:74: tree pruning end, 1 roots, 0 extra nodes, 16 pruned nodes, max_depth=0\u001b[0m\n",
      "\u001b[31m[73]#011train-error:0.166333#011validation-error:0.176056\u001b[0m\n",
      "\u001b[31m[15:05:24] src/tree/updater_prune.cc:74: tree pruning end, 1 roots, 0 extra nodes, 12 pruned nodes, max_depth=0\u001b[0m\n",
      "\u001b[31m[74]#011train-error:0.170341#011validation-error:0.169014\u001b[0m\n",
      "\u001b[31m[15:05:24] src/tree/updater_prune.cc:74: tree pruning end, 1 roots, 0 extra nodes, 12 pruned nodes, max_depth=0\u001b[0m\n",
      "\u001b[31m[75]#011train-error:0.172345#011validation-error:0.169014\u001b[0m\n",
      "\u001b[31m[15:05:24] src/tree/updater_prune.cc:74: tree pruning end, 1 roots, 0 extra nodes, 14 pruned nodes, max_depth=0\u001b[0m\n",
      "\u001b[31m[15:05:24] src/tree/updater_prune.cc:74: tree pruning end, 1 roots, 0 extra nodes, 12 pruned nodes, max_depth=0\u001b[0m\n",
      "\u001b[31m[76]#011train-error:0.172345#011validation-error:0.169014\u001b[0m\n",
      "\u001b[31m[77]#011train-error:0.172345#011validation-error:0.169014\u001b[0m\n",
      "\u001b[31m[15:05:24] src/tree/updater_prune.cc:74: tree pruning end, 1 roots, 0 extra nodes, 12 pruned nodes, max_depth=0\u001b[0m\n",
      "\u001b[31m[78]#011train-error:0.172345#011validation-error:0.169014\u001b[0m\n",
      "\u001b[31m[15:05:24] src/tree/updater_prune.cc:74: tree pruning end, 1 roots, 0 extra nodes, 10 pruned nodes, max_depth=0\u001b[0m\n",
      "\u001b[31m[79]#011train-error:0.172345#011validation-error:0.169014\u001b[0m\n",
      "\u001b[31m[15:05:24] src/tree/updater_prune.cc:74: tree pruning end, 1 roots, 0 extra nodes, 12 pruned nodes, max_depth=0\u001b[0m\n",
      "\u001b[31m[80]#011train-error:0.172345#011validation-error:0.169014\u001b[0m\n",
      "\u001b[31m[15:05:24] src/tree/updater_prune.cc:74: tree pruning end, 1 roots, 0 extra nodes, 12 pruned nodes, max_depth=0\u001b[0m\n",
      "\u001b[31m[81]#011train-error:0.172345#011validation-error:0.169014\u001b[0m\n",
      "\u001b[31m[15:05:24] src/tree/updater_prune.cc:74: tree pruning end, 1 roots, 0 extra nodes, 12 pruned nodes, max_depth=0\u001b[0m\n",
      "\u001b[31m[82]#011train-error:0.170341#011validation-error:0.169014\u001b[0m\n",
      "\u001b[31m[15:05:24] src/tree/updater_prune.cc:74: tree pruning end, 1 roots, 0 extra nodes, 14 pruned nodes, max_depth=0\u001b[0m\n",
      "\u001b[31m[83]#011train-error:0.166333#011validation-error:0.176056\u001b[0m\n",
      "\u001b[31m[15:05:24] src/tree/updater_prune.cc:74: tree pruning end, 1 roots, 0 extra nodes, 12 pruned nodes, max_depth=0\u001b[0m\n",
      "\u001b[31m[84]#011train-error:0.170341#011validation-error:0.169014\u001b[0m\n",
      "\u001b[31m[15:05:24] src/tree/updater_prune.cc:74: tree pruning end, 1 roots, 0 extra nodes, 10 pruned nodes, max_depth=0\u001b[0m\n",
      "\u001b[31m[85]#011train-error:0.168337#011validation-error:0.183099\u001b[0m\n",
      "\u001b[31m[15:05:24] src/tree/updater_prune.cc:74: tree pruning end, 1 roots, 0 extra nodes, 12 pruned nodes, max_depth=0\u001b[0m\n",
      "\u001b[31m[86]#011train-error:0.168337#011validation-error:0.183099\u001b[0m\n",
      "\u001b[31m[15:05:24] src/tree/updater_prune.cc:74: tree pruning end, 1 roots, 8 extra nodes, 6 pruned nodes, max_depth=4\u001b[0m\n",
      "\u001b[31m[87]#011train-error:0.162325#011validation-error:0.176056\u001b[0m\n",
      "\u001b[31m[15:05:24] src/tree/updater_prune.cc:74: tree pruning end, 1 roots, 0 extra nodes, 12 pruned nodes, max_depth=0\u001b[0m\n",
      "\u001b[31m[88]#011train-error:0.164329#011validation-error:0.176056\u001b[0m\n",
      "\u001b[31m[15:05:24] src/tree/updater_prune.cc:74: tree pruning end, 1 roots, 0 extra nodes, 10 pruned nodes, max_depth=0\u001b[0m\n",
      "\u001b[31m[89]#011train-error:0.162325#011validation-error:0.176056\u001b[0m\n",
      "\u001b[31m[15:05:24] src/tree/updater_prune.cc:74: tree pruning end, 1 roots, 0 extra nodes, 12 pruned nodes, max_depth=0\u001b[0m\n",
      "\u001b[31m[90]#011train-error:0.162325#011validation-error:0.176056\u001b[0m\n",
      "\u001b[31m[15:05:24] src/tree/updater_prune.cc:74: tree pruning end, 1 roots, 0 extra nodes, 12 pruned nodes, max_depth=0\u001b[0m\n",
      "\u001b[31m[91]#011train-error:0.162325#011validation-error:0.176056\u001b[0m\n",
      "\u001b[31m[15:05:24] src/tree/updater_prune.cc:74: tree pruning end, 1 roots, 0 extra nodes, 14 pruned nodes, max_depth=0\u001b[0m\n",
      "\u001b[31m[92]#011train-error:0.164329#011validation-error:0.169014\u001b[0m\n",
      "\u001b[31m[15:05:24] src/tree/updater_prune.cc:74: tree pruning end, 1 roots, 0 extra nodes, 16 pruned nodes, max_depth=0\u001b[0m\n",
      "\u001b[31m[93]#011train-error:0.164329#011validation-error:0.169014\u001b[0m\n",
      "\u001b[31m[15:05:24] src/tree/updater_prune.cc:74: tree pruning end, 1 roots, 0 extra nodes, 12 pruned nodes, max_depth=0\u001b[0m\n",
      "\u001b[31m[94]#011train-error:0.164329#011validation-error:0.169014\u001b[0m\n",
      "\u001b[31m[15:05:24] src/tree/updater_prune.cc:74: tree pruning end, 1 roots, 0 extra nodes, 12 pruned nodes, max_depth=0\u001b[0m\n",
      "\u001b[31m[95]#011train-error:0.164329#011validation-error:0.169014\u001b[0m\n",
      "\u001b[31m[15:05:24] src/tree/updater_prune.cc:74: tree pruning end, 1 roots, 0 extra nodes, 12 pruned nodes, max_depth=0\u001b[0m\n",
      "\u001b[31m[96]#011train-error:0.164329#011validation-error:0.169014\u001b[0m\n",
      "\u001b[31m[15:05:24] src/tree/updater_prune.cc:74: tree pruning end, 1 roots, 0 extra nodes, 10 pruned nodes, max_depth=0\u001b[0m\n",
      "\u001b[31m[97]#011train-error:0.164329#011validation-error:0.176056\u001b[0m\n",
      "\u001b[31m[15:05:24] src/tree/updater_prune.cc:74: tree pruning end, 1 roots, 2 extra nodes, 12 pruned nodes, max_depth=1\u001b[0m\n",
      "\u001b[31m[98]#011train-error:0.164329#011validation-error:0.176056\u001b[0m\n",
      "\u001b[31m[15:05:24] src/tree/updater_prune.cc:74: tree pruning end, 1 roots, 0 extra nodes, 14 pruned nodes, max_depth=0\u001b[0m\n",
      "\u001b[31m[99]#011train-error:0.164329#011validation-error:0.176056\u001b[0m\n",
      "\n",
      "2019-07-03 15:05:36 Uploading - Uploading generated training model\n",
      "2019-07-03 15:05:36 Completed - Training job completed\n",
      "Billable seconds: 65\n"
     ]
    }
   ],
   "source": [
    "from sagemaker.amazon.amazon_estimator import get_image_uri\n",
    "container = get_image_uri(boto3.Session().region_name, 'xgboost')\n",
    "\n",
    "s3_input_train = sagemaker.s3_input(s3_data='s3://{}/{}/train'.format(bucket, prefix), content_type='csv')\n",
    "s3_input_validation = sagemaker.s3_input(s3_data='s3://{}/{}/validation/'.format(bucket, prefix), content_type='csv')\n",
    "\n",
    "sess = sagemaker.Session()\n",
    "\n",
    "xgb = sagemaker.estimator.Estimator(container,\n",
    "                                    role, \n",
    "                                    train_instance_count=1, \n",
    "                                    train_instance_type='ml.m4.xlarge',\n",
    "                                    output_path='s3://{}/{}/output'.format(bucket, prefix),\n",
    "                                    sagemaker_session=sess)\n",
    "xgb.set_hyperparameters(max_depth=5,\n",
    "                        eta=0.2,\n",
    "                        gamma=4,\n",
    "                        min_child_weight=6,\n",
    "                        subsample=0.8,\n",
    "                        silent=0,\n",
    "                        objective='binary:logistic',\n",
    "                        num_round=100)\n",
    "\n",
    "xgb.fit({'train': s3_input_train, 'validation': s3_input_validation})"
   ]
  },
  {
   "cell_type": "markdown",
   "metadata": {},
   "source": [
    "### Accuracy and Fairness of the model <a class=\"anchor\" id=\"performance_linear_model\">\n",
    "Now that we've trained our model, we can deploy it behind an Amazon SageMaker real-time hosted endpoint.  This will allow out to make predictions (or inference) from the model dyanamically."
   ]
  },
  {
   "cell_type": "code",
   "execution_count": 7,
   "metadata": {},
   "outputs": [
    {
     "name": "stdout",
     "output_type": "stream",
     "text": [
      "---------------------------------------------------------------------------------------------------!"
     ]
    }
   ],
   "source": [
    "xgb_predictor = xgb.deploy(initial_instance_count=1,\n",
    "                           instance_type='ml.m4.xlarge')"
   ]
  },
  {
   "cell_type": "code",
   "execution_count": 9,
   "metadata": {},
   "outputs": [],
   "source": [
    "from sagemaker.predictor import csv_serializer\n",
    "xgb_predictor.content_type = 'text/csv'\n",
    "xgb_predictor.serializer = csv_serializer\n",
    "xgb_predictor.deserializer = None"
   ]
  },
  {
   "cell_type": "code",
   "execution_count": 10,
   "metadata": {},
   "outputs": [
    {
     "name": "stderr",
     "output_type": "stream",
     "text": [
      "/home/ec2-user/anaconda3/envs/python3/lib/python3.6/site-packages/ipykernel/__main__.py:9: FutureWarning: Method .as_matrix will be removed in a future version. Use .values instead.\n"
     ]
    }
   ],
   "source": [
    "def predict(data, rows=len(test_data)):\n",
    "    split_array = np.array_split(data, int(data.shape[0] / float(rows) + 1))\n",
    "    predictions = ''\n",
    "    for array in split_array:\n",
    "        predictions = ','.join([predictions, xgb_predictor.predict(array).decode('utf-8')])\n",
    "\n",
    "    return np.fromstring(predictions[1:], sep=',')\n",
    "\n",
    "predictions = predict(test_data.as_matrix()[:, 1:])"
   ]
  },
  {
   "cell_type": "code",
   "execution_count": 11,
   "metadata": {},
   "outputs": [
    {
     "data": {
      "text/html": [
       "<div>\n",
       "<style scoped>\n",
       "    .dataframe tbody tr th:only-of-type {\n",
       "        vertical-align: middle;\n",
       "    }\n",
       "\n",
       "    .dataframe tbody tr th {\n",
       "        vertical-align: top;\n",
       "    }\n",
       "\n",
       "    .dataframe thead th {\n",
       "        text-align: right;\n",
       "    }\n",
       "</style>\n",
       "<table border=\"1\" class=\"dataframe\">\n",
       "  <thead>\n",
       "    <tr style=\"text-align: right;\">\n",
       "      <th>predictions</th>\n",
       "      <th>0.0</th>\n",
       "      <th>1.0</th>\n",
       "    </tr>\n",
       "    <tr>\n",
       "      <th>actual</th>\n",
       "      <th></th>\n",
       "      <th></th>\n",
       "    </tr>\n",
       "  </thead>\n",
       "  <tbody>\n",
       "    <tr>\n",
       "      <th>0</th>\n",
       "      <td>38</td>\n",
       "      <td>8</td>\n",
       "    </tr>\n",
       "    <tr>\n",
       "      <th>1</th>\n",
       "      <td>7</td>\n",
       "      <td>20</td>\n",
       "    </tr>\n",
       "  </tbody>\n",
       "</table>\n",
       "</div>"
      ],
      "text/plain": [
       "predictions  0.0  1.0\n",
       "actual               \n",
       "0             38    8\n",
       "1              7   20"
      ]
     },
     "execution_count": 11,
     "metadata": {},
     "output_type": "execute_result"
    }
   ],
   "source": [
    "pd.crosstab(index=test_data.iloc[:, 0], columns=np.round(predictions), rownames=['actual'], colnames=['predictions'])"
   ]
  },
  {
   "cell_type": "markdown",
   "metadata": {},
   "source": [
    "Accuracy and precision calculation\n",
    "AC=TN+TP/TN+FP+FN+TP"
   ]
  },
  {
   "cell_type": "code",
   "execution_count": 19,
   "metadata": {},
   "outputs": [
    {
     "name": "stdout",
     "output_type": "stream",
     "text": [
      "73.52631578947368\n"
     ]
    }
   ],
   "source": [
    "Accuracy=38+20/38+20+15\n",
    "print(Accuracy)"
   ]
  },
  {
   "cell_type": "code",
   "execution_count": 12,
   "metadata": {},
   "outputs": [
    {
     "data": {
      "text/plain": [
       "0.8474235104669886"
      ]
     },
     "execution_count": 12,
     "metadata": {},
     "output_type": "execute_result"
    }
   ],
   "source": [
    "import numpy as np\n",
    "from sklearn.metrics import roc_auc_score\n",
    "\n",
    "roc_auc_score(test_data['Survived'], predictions)"
   ]
  },
  {
   "cell_type": "code",
   "execution_count": 14,
   "metadata": {},
   "outputs": [
    {
     "data": {
      "text/plain": [
       "0.7272727272727273"
      ]
     },
     "execution_count": 14,
     "metadata": {},
     "output_type": "execute_result"
    }
   ],
   "source": [
    "from sklearn.metrics import f1_score\n",
    "\n",
    "f1_score(test_data[\"Survived\"], np.round(predictions))"
   ]
  },
  {
   "cell_type": "code",
   "execution_count": 15,
   "metadata": {},
   "outputs": [
    {
     "data": {
      "text/plain": [
       "0.7142857142857143"
      ]
     },
     "execution_count": 15,
     "metadata": {},
     "output_type": "execute_result"
    }
   ],
   "source": [
    "from sklearn.metrics import precision_score\n",
    "\n",
    "precision_score(test_data[\"Survived\"], np.round(predictions))"
   ]
  },
  {
   "cell_type": "code",
   "execution_count": 16,
   "metadata": {},
   "outputs": [
    {
     "data": {
      "text/plain": [
       "0.7407407407407407"
      ]
     },
     "execution_count": 16,
     "metadata": {},
     "output_type": "execute_result"
    }
   ],
   "source": [
    "from sklearn.metrics import recall_score\n",
    "\n",
    "recall_score(test_data[\"Survived\"], np.round(predictions))"
   ]
  },
  {
   "cell_type": "markdown",
   "metadata": {},
   "source": [
    "Clean-up\n",
    "If you're ready to be done with this notebook, please run the cell below. This will remove the hosted endpoint you created and avoid any charges from a stray instance being left on."
   ]
  },
  {
   "cell_type": "code",
   "execution_count": null,
   "metadata": {},
   "outputs": [],
   "source": [
    "#sagemaker.Session().delete_endpoint(xgb_predictor.endpoint)"
   ]
  }
 ],
 "metadata": {
  "kernelspec": {
   "display_name": "conda_python3",
   "language": "python",
   "name": "conda_python3"
  },
  "language_info": {
   "codemirror_mode": {
    "name": "ipython",
    "version": 3
   },
   "file_extension": ".py",
   "mimetype": "text/x-python",
   "name": "python",
   "nbconvert_exporter": "python",
   "pygments_lexer": "ipython3",
   "version": "3.6.5"
  }
 },
 "nbformat": 4,
 "nbformat_minor": 2
}
